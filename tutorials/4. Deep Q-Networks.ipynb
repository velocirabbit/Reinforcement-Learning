{
 "cells": [
  {
   "cell_type": "markdown",
   "metadata": {},
   "source": [
    "# Deep Q-Networks and Beyond\n",
    "Practice implementing a DQN using both Double DQN and Dueling DQN. The agent learns to solve a navigation task in a basic grid world.\n",
    "\n",
    "Note to self (2D convolutional layer in TensorFlow):  \n",
    "`tf.contrib.layers.convolution2d(inputs, num_outputs, kernel_size, stride, padding)`  \n",
    "where:  \n",
    "* `num_outputs`: number of output filters  \n",
    "* `kernel_size`: size of convolution window  \n",
    "* `padding`: type of padding to apply (`\"valid\"`, `\"same\"`)  "
   ]
  },
  {
   "cell_type": "code",
   "execution_count": 1,
   "metadata": {},
   "outputs": [
    {
     "name": "stderr",
     "output_type": "stream",
     "text": [
      "c:\\python35\\lib\\site-packages\\h5py\\__init__.py:36: FutureWarning: Conversion of the second argument of issubdtype from `float` to `np.floating` is deprecated. In future, it will be treated as `np.float64 == np.dtype(float).type`.\n",
      "  from ._conv import register_converters as _register_converters\n"
     ]
    }
   ],
   "source": [
    "import numpy as np\n",
    "import random\n",
    "import tensorflow as tf\n",
    "import os\n",
    "import time\n",
    "import matplotlib.pyplot as plt\n",
    "%matplotlib inline\n",
    "\n",
    "from gridworld import GameEnv  # The game environment\n",
    "from helper import *           # Helper functions for training DQNs"
   ]
  },
  {
   "cell_type": "markdown",
   "metadata": {},
   "source": [
    "### Load the game environment\n",
    "An example of the game environment below. The agent controls the blue square, and can move up, down, left, or right. The goal is to move to a green square (for a +1 reward) and avoid the red squares (for a -1 reward). The position of the blocks are randomized every episode."
   ]
  },
  {
   "cell_type": "code",
   "execution_count": 2,
   "metadata": {},
   "outputs": [],
   "source": [
    "grid_sz = 7\n",
    "img_sz = 64\n",
    "n_pxls = img_sz**2 * 3"
   ]
  },
  {
   "cell_type": "code",
   "execution_count": 3,
   "metadata": {},
   "outputs": [
    {
     "name": "stderr",
     "output_type": "stream",
     "text": [
      "c:\\python35\\lib\\site-packages\\skimage\\transform\\_warps.py:84: UserWarning: The default mode, 'constant', will be changed to 'reflect' in skimage 0.15.\n",
      "  warn(\"The default mode, 'constant', will be changed to 'reflect' in \"\n"
     ]
    },
    {
     "data": {
      "image/png": "[encoded data removed]",
      "text/plain": [
       "<matplotlib.figure.Figure at 0x253bf50f160>"
      ]
     },
     "metadata": {},
     "output_type": "display_data"
    }
   ],
   "source": [
    "env = GameEnv(size = grid_sz, n_goals = 2, n_fire = 5, partial = False, img_sz = img_sz)"
   ]
  },
  {
   "cell_type": "markdown",
   "metadata": {},
   "source": [
    "### Implementing the network itself\n",
    "This implementation is of a dueling DQN, and we'll be training it using a double DQN setup."
   ]
  },
  {
   "cell_type": "code",
   "execution_count": 4,
   "metadata": {},
   "outputs": [],
   "source": [
    "class QNetwork:\n",
    "    def __init__(self, h_size, lr = 0.0001):\n",
    "        # The network receives a frame from the game, flattened into an array\n",
    "        # It then resizes it and processes it through four convolutional layers\n",
    "        # The smallest image size allowed by this network is a 28x28 pixel image\n",
    "        self.scalarInput = tf.placeholder(shape = [None, n_pxls], dtype = tf.float32)\n",
    "        self.imageIn = tf.reshape(self.scalarInput, shape = [-1, img_sz, img_sz, 3])\n",
    "        # Convolution layers\n",
    "        self.conv1 = tf.contrib.layers.convolution2d(\n",
    "            inputs = self.imageIn, num_outputs = 32,\n",
    "            kernel_size = [8, 8], stride = [4, 4],\n",
    "            padding = 'valid', biases_initializer = None\n",
    "        )\n",
    "        self.conv2 = tf.contrib.layers.convolution2d(\n",
    "            inputs = self.conv1, num_outputs = 64,\n",
    "            kernel_size = [4, 4], stride = [2, 2],\n",
    "            padding = 'valid', biases_initializer = None\n",
    "        )\n",
    "        self.conv3 = tf.contrib.layers.convolution2d(\n",
    "            inputs = self.conv2, num_outputs = 128,\n",
    "            kernel_size = [2, 2], stride = [1, 1],\n",
    "            padding = 'valid', biases_initializer = None\n",
    "        )\n",
    "        self.conv4 = tf.contrib.layers.convolution2d(\n",
    "            inputs = self.conv3, num_outputs = h_size,\n",
    "            kernel_size = self.conv3.shape[1:-1], stride = [1, 1],\n",
    "            padding = 'valid', biases_initializer = None\n",
    "        )\n",
    "        # Take the output from the final convolutional layer and split it into\n",
    "        # two separate advantage and value streams\n",
    "        self.streamAC, self.streamVC = tf.split(self.conv4, 2, 3)\n",
    "        self.streamAdv = tf.contrib.layers.flatten(self.streamAC)\n",
    "        self.streamVal = tf.contrib.layers.flatten(self.streamVC)\n",
    "        # Initialize weights\n",
    "        xavier_init = tf.contrib.layers.xavier_initializer()\n",
    "        self.AdvWts = tf.Variable(xavier_init([h_size//2, env.actions]))\n",
    "        self.ValWts = tf.Variable(xavier_init([h_size//2, 1]))\n",
    "        self.Advantage = tf.matmul(self.streamAdv, self.AdvWts)\n",
    "        self.Value = tf.matmul(self.streamVal, self.ValWts)\n",
    "        \n",
    "        # Combine the advantage and value streams together to get our final Q-values\n",
    "        mean_adv = tf.reduce_mean(self.Advantage, axis = 1, keepdims = True)\n",
    "        self.Qout = self.Value + tf.subtract(self.Advantage, mean_adv)\n",
    "        self.predict = tf.argmax(self.Qout, 1)  # Outputs index of the action to take\n",
    "        \n",
    "        # Single out the predicted Q-value for just the predicted action by setting\n",
    "        # the other Q-values to 0\n",
    "        self.actions = tf.placeholder(shape = [None], dtype = tf.int32)\n",
    "        self.actions_onehot = tf.one_hot(self.actions, env.actions, dtype = tf.float32)\n",
    "        self.Q = tf.reduce_sum(tf.multiply(self.Qout, self.actions_onehot), axis = 1)\n",
    "        \n",
    "        # Obtain the loss by taking the sum of squares difference between the target\n",
    "        # and predicted Q-values. The target Q-values should be obtained from the\n",
    "        # other DQN (`targetDQN`). We don't compute the loss/error for the Q-values\n",
    "        # of the other actions\n",
    "        self.targetQ = tf.placeholder(shape = [None], dtype = tf.float32)\n",
    "        self.td_error = tf.square(self.targetQ - self.Q)\n",
    "        self.loss = tf.reduce_mean(self.td_error)\n",
    "        self.trainer = tf.train.AdamOptimizer(learning_rate = lr)\n",
    "        self.updateModel = self.trainer.minimize(self.loss)"
   ]
  },
  {
   "cell_type": "markdown",
   "metadata": {},
   "source": [
    "### Experience Replay\n",
    "This class allows us to store experiences and sample them randomly to train the network."
   ]
  },
  {
   "cell_type": "code",
   "execution_count": 5,
   "metadata": {},
   "outputs": [],
   "source": [
    "class experience_buffer:\n",
    "    def __init__(self, buffer_size = 50000):\n",
    "        self.buffer = []\n",
    "        self.buffer_size = buffer_size\n",
    "        \n",
    "    def add(self, experience):\n",
    "        if len(self.buffer) + len(experience) >= self.buffer_size:\n",
    "            self.buffer[0 : len(experience)+len(self.buffer)-self.buffer_size] = []\n",
    "        self.buffer.extend(experience)\n",
    "        \n",
    "    def sample(self, size):\n",
    "        return np.reshape(np.array(random.sample(self.buffer, size)), [size, 5])"
   ]
  },
  {
   "cell_type": "markdown",
   "metadata": {},
   "source": [
    "### Training the network\n",
    "Training hyperparameters:"
   ]
  },
  {
   "cell_type": "code",
   "execution_count": 7,
   "metadata": {},
   "outputs": [],
   "source": [
    "batch_size = 32           # Number of experiences to use for each training step\n",
    "update_freq = 4           # How often to perform a training step\n",
    "y = 0.99                  # Discount factor on the target Q-values\n",
    "startE = 1                # Starting chance of a random action\n",
    "endE = 0.1                # Final chance of a random action\n",
    "annealing_steps = 10000   # How many steps of training to reduce startE to endE\n",
    "num_episodes = 10000      # How many episodes of game environment to train network with\n",
    "pre_train_steps = 10000   # How many steps of random actions before training begins\n",
    "max_epLength = 50         # Max allowed length of our episode\n",
    "h_size = 512              # Hidden layer size (before split into advantage/value streams)\n",
    "tau = 0.001               # Rate to update target network toward primary network\n",
    "lr = 0.0001               # Learning rate\n",
    "buffer_size = 50000       # Size of the experience replay buffer\n",
    "\n",
    "log_time = 100            # Number of episodes between log outputs\n",
    "load_model = False\n",
    "save_dir = 'chkpts'"
   ]
  },
  {
   "cell_type": "code",
   "execution_count": 8,
   "metadata": {},
   "outputs": [
    {
     "name": "stdout",
     "output_type": "stream",
     "text": [
      "WARNING:tensorflow:From c:\\python35\\lib\\site-packages\\tensorflow\\contrib\\learn\\python\\learn\\datasets\\base.py:198: retry (from tensorflow.contrib.learn.python.learn.datasets.base) is deprecated and will be removed in a future version.\n",
      "Instructions for updating:\n",
      "Use the retry module or similar alternatives.\n"
     ]
    },
    {
     "name": "stderr",
     "output_type": "stream",
     "text": [
      "c:\\python35\\lib\\site-packages\\skimage\\transform\\_warps.py:84: UserWarning: The default mode, 'constant', will be changed to 'reflect' in skimage 0.15.\n",
      "  warn(\"The default mode, 'constant', will be changed to 'reflect' in \"\n"
     ]
    },
    {
     "name": "stdout",
     "output_type": "stream",
     "text": [
      "Saved model checkpoint\n",
      "Ep.  100)  Time: 8.95 sec\tSteps:   5000\t Avg. reward: -1.69\tP(random action) = 1.00\n",
      "Ep.  200)  Time: 7.84 sec\tSteps:  10000\t Avg. reward: -1.28\tP(random action) = 1.00\n",
      "Ep.  300)  Time: 207.08 sec\tSteps:  15000\t Avg. reward: -1.09\tP(random action) = 0.55\n",
      "Ep.  400)  Time: 216.43 sec\tSteps:  20000\t Avg. reward: 0.54\tP(random action) = 0.10\n",
      "Ep.  500)  Time: 216.08 sec\tSteps:  25000\t Avg. reward: 1.82\tP(random action) = 0.10\n",
      "Ep.  600)  Time: 219.49 sec\tSteps:  30000\t Avg. reward: 3.61\tP(random action) = 0.10\n",
      "Ep.  700)  Time: 221.80 sec\tSteps:  35000\t Avg. reward: 6.19\tP(random action) = 0.10\n",
      "Ep.  800)  Time: 221.62 sec\tSteps:  40000\t Avg. reward: 8.21\tP(random action) = 0.10\n",
      "Ep.  900)  Time: 232.37 sec\tSteps:  45000\t Avg. reward: 8.10\tP(random action) = 0.10\n",
      "Ep. 1000)  Time: 224.84 sec\tSteps:  50000\t Avg. reward: 8.93\tP(random action) = 0.10\n",
      "Saved model checkpoint\n",
      "Ep. 1100)  Time: 229.57 sec\tSteps:  55000\t Avg. reward: 10.32\tP(random action) = 0.10\n",
      "Ep. 1200)  Time: 238.14 sec\tSteps:  60000\t Avg. reward: 10.02\tP(random action) = 0.10\n",
      "Ep. 1300)  Time: 239.95 sec\tSteps:  65000\t Avg. reward: 9.84\tP(random action) = 0.10\n",
      "Ep. 1400)  Time: 230.21 sec\tSteps:  70000\t Avg. reward: 9.99\tP(random action) = 0.10\n",
      "Ep. 1500)  Time: 236.31 sec\tSteps:  75000\t Avg. reward: 10.14\tP(random action) = 0.10\n",
      "Ep. 1600)  Time: 228.85 sec\tSteps:  80000\t Avg. reward: 9.90\tP(random action) = 0.10\n",
      "Ep. 1700)  Time: 236.84 sec\tSteps:  85000\t Avg. reward: 10.26\tP(random action) = 0.10\n",
      "Ep. 1800)  Time: 232.21 sec\tSteps:  90000\t Avg. reward: 9.43\tP(random action) = 0.10\n",
      "Ep. 1900)  Time: 234.51 sec\tSteps:  95000\t Avg. reward: 9.58\tP(random action) = 0.10\n",
      "Ep. 2000)  Time: 238.14 sec\tSteps: 100000\t Avg. reward: 9.48\tP(random action) = 0.10\n",
      "Saved model checkpoint\n",
      "Ep. 2100)  Time: 234.22 sec\tSteps: 105000\t Avg. reward: 10.18\tP(random action) = 0.10\n",
      "Ep. 2200)  Time: 237.85 sec\tSteps: 110000\t Avg. reward: 9.23\tP(random action) = 0.10\n",
      "Ep. 2300)  Time: 237.82 sec\tSteps: 115000\t Avg. reward: 9.15\tP(random action) = 0.10\n",
      "Ep. 2400)  Time: 234.31 sec\tSteps: 120000\t Avg. reward: 9.51\tP(random action) = 0.10\n",
      "Ep. 2500)  Time: 240.16 sec\tSteps: 125000\t Avg. reward: 9.28\tP(random action) = 0.10\n",
      "Ep. 2600)  Time: 232.41 sec\tSteps: 130000\t Avg. reward: 9.80\tP(random action) = 0.10\n",
      "Ep. 2700)  Time: 237.41 sec\tSteps: 135000\t Avg. reward: 8.86\tP(random action) = 0.10\n",
      "Ep. 2800)  Time: 233.81 sec\tSteps: 140000\t Avg. reward: 9.18\tP(random action) = 0.10\n",
      "Ep. 2900)  Time: 232.00 sec\tSteps: 145000\t Avg. reward: 8.50\tP(random action) = 0.10\n",
      "Ep. 3000)  Time: 237.81 sec\tSteps: 150000\t Avg. reward: 8.50\tP(random action) = 0.10\n",
      "Saved model checkpoint\n",
      "Ep. 3100)  Time: 232.09 sec\tSteps: 155000\t Avg. reward: 9.14\tP(random action) = 0.10\n",
      "Ep. 3200)  Time: 233.99 sec\tSteps: 160000\t Avg. reward: 8.93\tP(random action) = 0.10\n",
      "Ep. 3300)  Time: 236.92 sec\tSteps: 165000\t Avg. reward: 7.94\tP(random action) = 0.10\n",
      "Ep. 3400)  Time: 232.86 sec\tSteps: 170000\t Avg. reward: 8.19\tP(random action) = 0.10\n",
      "Ep. 3500)  Time: 240.29 sec\tSteps: 175000\t Avg. reward: 7.87\tP(random action) = 0.10\n",
      "Ep. 3600)  Time: 232.42 sec\tSteps: 180000\t Avg. reward: 8.82\tP(random action) = 0.10\n",
      "Ep. 3700)  Time: 232.95 sec\tSteps: 185000\t Avg. reward: 8.91\tP(random action) = 0.10\n",
      "Ep. 3800)  Time: 237.98 sec\tSteps: 190000\t Avg. reward: 8.03\tP(random action) = 0.10\n",
      "Ep. 3900)  Time: 229.39 sec\tSteps: 195000\t Avg. reward: 8.25\tP(random action) = 0.10\n",
      "Ep. 4000)  Time: 235.98 sec\tSteps: 200000\t Avg. reward: 8.68\tP(random action) = 0.10\n",
      "Saved model checkpoint\n",
      "Ep. 4100)  Time: 229.11 sec\tSteps: 205000\t Avg. reward: 8.26\tP(random action) = 0.10\n",
      "Ep. 4200)  Time: 229.62 sec\tSteps: 210000\t Avg. reward: 8.94\tP(random action) = 0.10\n",
      "Ep. 4300)  Time: 234.56 sec\tSteps: 215000\t Avg. reward: 8.53\tP(random action) = 0.10\n",
      "Ep. 4400)  Time: 227.86 sec\tSteps: 220000\t Avg. reward: 8.41\tP(random action) = 0.10\n",
      "Ep. 4500)  Time: 231.12 sec\tSteps: 225000\t Avg. reward: 8.52\tP(random action) = 0.10\n",
      "Ep. 4600)  Time: 229.52 sec\tSteps: 230000\t Avg. reward: 8.05\tP(random action) = 0.10\n",
      "Ep. 4700)  Time: 227.07 sec\tSteps: 235000\t Avg. reward: 8.43\tP(random action) = 0.10\n",
      "Ep. 4800)  Time: 233.65 sec\tSteps: 240000\t Avg. reward: 8.04\tP(random action) = 0.10\n",
      "Ep. 4900)  Time: 227.01 sec\tSteps: 245000\t Avg. reward: 7.54\tP(random action) = 0.10\n",
      "Ep. 5000)  Time: 228.90 sec\tSteps: 250000\t Avg. reward: 8.26\tP(random action) = 0.10\n",
      "Saved model checkpoint\n",
      "Ep. 5100)  Time: 230.95 sec\tSteps: 255000\t Avg. reward: 8.62\tP(random action) = 0.10\n",
      "Ep. 5200)  Time: 224.44 sec\tSteps: 260000\t Avg. reward: 8.23\tP(random action) = 0.10\n",
      "Ep. 5300)  Time: 226.92 sec\tSteps: 265000\t Avg. reward: 7.86\tP(random action) = 0.10\n",
      "Ep. 5400)  Time: 229.00 sec\tSteps: 270000\t Avg. reward: 8.62\tP(random action) = 0.10\n",
      "Ep. 5500)  Time: 225.45 sec\tSteps: 275000\t Avg. reward: 8.16\tP(random action) = 0.10\n",
      "Ep. 5600)  Time: 230.29 sec\tSteps: 280000\t Avg. reward: 7.53\tP(random action) = 0.10\n",
      "Ep. 5700)  Time: 223.02 sec\tSteps: 285000\t Avg. reward: 8.40\tP(random action) = 0.10\n",
      "Ep. 5800)  Time: 227.18 sec\tSteps: 290000\t Avg. reward: 8.09\tP(random action) = 0.10\n",
      "Ep. 5900)  Time: 226.63 sec\tSteps: 295000\t Avg. reward: 8.32\tP(random action) = 0.10\n",
      "Ep. 6000)  Time: 222.87 sec\tSteps: 300000\t Avg. reward: 7.92\tP(random action) = 0.10\n",
      "Saved model checkpoint\n",
      "Ep. 6100)  Time: 227.17 sec\tSteps: 305000\t Avg. reward: 8.34\tP(random action) = 0.10\n",
      "Ep. 6200)  Time: 222.70 sec\tSteps: 310000\t Avg. reward: 8.01\tP(random action) = 0.10\n",
      "Ep. 6300)  Time: 220.84 sec\tSteps: 315000\t Avg. reward: 7.34\tP(random action) = 0.10\n",
      "Ep. 6400)  Time: 226.85 sec\tSteps: 320000\t Avg. reward: 8.42\tP(random action) = 0.10\n",
      "Ep. 6500)  Time: 221.56 sec\tSteps: 325000\t Avg. reward: 8.22\tP(random action) = 0.10\n",
      "Ep. 6600)  Time: 222.03 sec\tSteps: 330000\t Avg. reward: 7.86\tP(random action) = 0.10\n",
      "Ep. 6700)  Time: 224.03 sec\tSteps: 335000\t Avg. reward: 8.03\tP(random action) = 0.10\n",
      "Ep. 6800)  Time: 219.43 sec\tSteps: 340000\t Avg. reward: 8.17\tP(random action) = 0.10\n",
      "Ep. 6900)  Time: 224.50 sec\tSteps: 345000\t Avg. reward: 8.49\tP(random action) = 0.10\n",
      "Ep. 7000)  Time: 219.60 sec\tSteps: 350000\t Avg. reward: 7.52\tP(random action) = 0.10\n",
      "Saved model checkpoint\n",
      "Ep. 7100)  Time: 219.71 sec\tSteps: 355000\t Avg. reward: 8.45\tP(random action) = 0.10\n",
      "Ep. 7200)  Time: 225.87 sec\tSteps: 360000\t Avg. reward: 7.56\tP(random action) = 0.10\n",
      "Ep. 7300)  Time: 219.13 sec\tSteps: 365000\t Avg. reward: 8.14\tP(random action) = 0.10\n",
      "Ep. 7400)  Time: 219.50 sec\tSteps: 370000\t Avg. reward: 7.99\tP(random action) = 0.10\n",
      "Ep. 7500)  Time: 223.02 sec\tSteps: 375000\t Avg. reward: 8.18\tP(random action) = 0.10\n",
      "Ep. 7600)  Time: 217.99 sec\tSteps: 380000\t Avg. reward: 8.35\tP(random action) = 0.10\n",
      "Ep. 7700)  Time: 221.50 sec\tSteps: 385000\t Avg. reward: 8.93\tP(random action) = 0.10\n",
      "Ep. 7800)  Time: 221.08 sec\tSteps: 390000\t Avg. reward: 7.63\tP(random action) = 0.10\n",
      "Ep. 7900)  Time: 217.86 sec\tSteps: 395000\t Avg. reward: 8.11\tP(random action) = 0.10\n",
      "Ep. 8000)  Time: 223.71 sec\tSteps: 400000\t Avg. reward: 8.20\tP(random action) = 0.10\n",
      "Saved model checkpoint\n",
      "Ep. 8100)  Time: 218.97 sec\tSteps: 405000\t Avg. reward: 7.85\tP(random action) = 0.10\n",
      "Ep. 8200)  Time: 217.47 sec\tSteps: 410000\t Avg. reward: 8.53\tP(random action) = 0.10\n",
      "Ep. 8300)  Time: 223.50 sec\tSteps: 415000\t Avg. reward: 8.28\tP(random action) = 0.10\n",
      "Ep. 8400)  Time: 217.31 sec\tSteps: 420000\t Avg. reward: 7.70\tP(random action) = 0.10\n",
      "Ep. 8500)  Time: 218.53 sec\tSteps: 425000\t Avg. reward: 8.32\tP(random action) = 0.10\n",
      "Ep. 8600)  Time: 221.99 sec\tSteps: 430000\t Avg. reward: 8.16\tP(random action) = 0.10\n",
      "Ep. 8700)  Time: 216.10 sec\tSteps: 435000\t Avg. reward: 8.95\tP(random action) = 0.10\n",
      "Ep. 8800)  Time: 221.81 sec\tSteps: 440000\t Avg. reward: 8.13\tP(random action) = 0.10\n",
      "Ep. 8900)  Time: 218.52 sec\tSteps: 445000\t Avg. reward: 7.90\tP(random action) = 0.10\n",
      "Ep. 9000)  Time: 229.36 sec\tSteps: 450000\t Avg. reward: 8.04\tP(random action) = 0.10\n",
      "Saved model checkpoint\n",
      "Ep. 9100)  Time: 224.01 sec\tSteps: 455000\t Avg. reward: 8.18\tP(random action) = 0.10\n",
      "Ep. 9200)  Time: 221.23 sec\tSteps: 460000\t Avg. reward: 8.46\tP(random action) = 0.10\n",
      "Ep. 9300)  Time: 224.86 sec\tSteps: 465000\t Avg. reward: 8.30\tP(random action) = 0.10\n",
      "Ep. 9400)  Time: 226.61 sec\tSteps: 470000\t Avg. reward: 7.87\tP(random action) = 0.10\n"
     ]
    },
    {
     "name": "stdout",
     "output_type": "stream",
     "text": [
      "Ep. 9500)  Time: 225.02 sec\tSteps: 475000\t Avg. reward: 7.64\tP(random action) = 0.10\n",
      "Ep. 9600)  Time: 222.57 sec\tSteps: 480000\t Avg. reward: 8.32\tP(random action) = 0.10\n",
      "Ep. 9700)  Time: 217.86 sec\tSteps: 485000\t Avg. reward: 7.26\tP(random action) = 0.10\n",
      "Ep. 9800)  Time: 216.86 sec\tSteps: 490000\t Avg. reward: 8.57\tP(random action) = 0.10\n",
      "Ep. 9900)  Time: 223.41 sec\tSteps: 495000\t Avg. reward: 8.14\tP(random action) = 0.10\n",
      "Ep. 10000)  Time: 217.96 sec\tSteps: 500000\t Avg. reward: 7.63\tP(random action) = 0.10\n",
      "Percent of successful episodes: 7.981%\n"
     ]
    }
   ],
   "source": [
    "tf.reset_default_graph()\n",
    "mainQN = QNetwork(h_size, lr = lr)\n",
    "targetQN = QNetwork(h_size, lr = lr)\n",
    "\n",
    "init = tf.global_variables_initializer()\n",
    "saver = tf.train.Saver()\n",
    "\n",
    "# Add the ops to update the targetQN parameters to the TensorFlow graph\n",
    "trainables = tf.trainable_variables()\n",
    "targetOps = updateTargetGraph(trainables, tau)\n",
    "\n",
    "# Initialize the experience replay buffer\n",
    "myBuffer = experience_buffer(buffer_size = buffer_size)\n",
    "\n",
    "# Set the rate decrease for the probability of a random action\n",
    "e = startE\n",
    "stepDrop = (startE - endE) / annealing_steps\n",
    "\n",
    "# Create lists to contain total rewards and steps per episode\n",
    "jList = []\n",
    "rList = []\n",
    "total_steps = 0\n",
    "\n",
    "# Saved model directory\n",
    "if not os.path.exists(save_dir):\n",
    "    os.makedirs(save_dir)\n",
    "    \n",
    "with tf.Session() as sess:\n",
    "    if load_model:\n",
    "        print('Loading model...')\n",
    "        ckpt = tf.train.get_checkpoint_state(save_dir)\n",
    "        saver.restore(sess, ckpt.model_checkpoint_path)\n",
    "    sess.run(init)\n",
    "    t_start = time.time()\n",
    "    # Main loop\n",
    "    for i in range(num_episodes):\n",
    "        episodeBuffer = experience_buffer()\n",
    "        # Reset environment and get first new observation\n",
    "        s = processState(env.reset(), img_sz)\n",
    "        d = False\n",
    "        rAll = 0\n",
    "        j = 0\n",
    "        # Training loop\n",
    "        while j < max_epLength:\n",
    "            j += 1\n",
    "            # Choose an action by greedily (with e chance of random action) from Q-network\n",
    "            if np.random.rand(1) < e or total_steps < pre_train_steps:\n",
    "                a = np.random.randint(0, 4)\n",
    "            else:\n",
    "                a = sess.run(mainQN.predict, feed_dict = {mainQN.scalarInput: [s]})[0]\n",
    "            s1, r, d = env.step(a)\n",
    "            s1 = processState(s1, img_sz)\n",
    "            total_steps += 1\n",
    "            # Add this experience to the replay buffer\n",
    "            episodeBuffer.add(np.reshape(np.array([s, a, r, s1, d]), [1, 5]))\n",
    "            if total_steps > pre_train_steps:\n",
    "                if e > endE:\n",
    "                    e -= stepDrop\n",
    "                    \n",
    "                if total_steps % update_freq == 0:\n",
    "                    # Train the models on the buffered experiences\n",
    "                    # Get the batch of experiences from the buffer\n",
    "                    trainBatch = myBuffer.sample(batch_size)\n",
    "                    # Run the two networks in feed forward. The main network\n",
    "                    # will output an action to take\n",
    "                    Q1 = sess.run(mainQN.predict, feed_dict = {          # Target actions\n",
    "                        mainQN.scalarInput: np.vstack(trainBatch[:,3]),\n",
    "                    })\n",
    "                    Q2 = sess.run(targetQN.Qout, feed_dict = {           # Target Q-values\n",
    "                        targetQN.scalarInput: np.vstack(trainBatch[:,3]),\n",
    "                    })\n",
    "                    # Zero out the experiences that result in a finished episode\n",
    "                    end_multiplier = -(trainBatch[:,4] - 1)\n",
    "                    # Get the target Q-values of JUST the target actions from mainQN\n",
    "                    doubleQ = Q2[range(batch_size), Q1]\n",
    "                    # targetQ = r + gamma*Q(targetAction)\n",
    "                    targetQ = trainBatch[:,2] + (y*doubleQ * end_multiplier)\n",
    "                    # Update mainDQN with our target values\n",
    "                    sess.run(mainQN.updateModel, feed_dict = {\n",
    "                        mainQN.scalarInput: np.vstack(trainBatch[:,0]),\n",
    "                        mainQN.targetQ    : targetQ,\n",
    "                        mainQN.actions    : trainBatch[:,1],\n",
    "                    })\n",
    "                    # Update targetDQN's parameters towards mainDQN's\n",
    "                    updateTarget(targetOps, sess)\n",
    "            rAll += r\n",
    "            s = s1\n",
    "            if d:\n",
    "                break\n",
    "        myBuffer.add(episodeBuffer.buffer)\n",
    "        jList.append(j)\n",
    "        rList.append(rAll)\n",
    "        # Periodically save the model\n",
    "        if i % 1000 == 0 and i != 0:\n",
    "            saver.save(sess, os.path.join(save_dir, 'model-'+str(i)+'.ckpt'))\n",
    "            print('Saved model checkpoint')\n",
    "        if len(rList) % log_time == 0 and len(rList) != 0:\n",
    "            t_elapsed = time.time() - t_start\n",
    "            print('Ep. {:5d})  Time: {:.2f} sec\\tSteps: {:6d}\\tAvg. reward: {:.2f}\\tP(random action) = {:.2f}'.format(\n",
    "                i+1, t_elapsed, total_steps, np.mean(rList[-log_time:]), e\n",
    "            ))\n",
    "            t_start = time.time()\n",
    "    saver.save(sess, os.path.join(save_dir, 'model-'+str(i)+'.ckpt'))\n",
    "print(\"Percent of successful episodes: %.3f%%\" % (sum(rList)/num_episodes))"
   ]
  },
  {
   "cell_type": "markdown",
   "metadata": {},
   "source": [
    "### Check network learning\n",
    "Mean reward over time"
   ]
  },
  {
   "cell_type": "code",
   "execution_count": 9,
   "metadata": {},
   "outputs": [
    {
     "data": {
      "text/plain": [
       "[<matplotlib.lines.Line2D at 0x25384ebb748>]"
      ]
     },
     "execution_count": 9,
     "metadata": {},
     "output_type": "execute_result"
    },
    {
     "data": {
      "image/png": "[encoded data removed]",
      "text/plain": [
       "<matplotlib.figure.Figure at 0x253bf8c4550>"
      ]
     },
     "metadata": {},
     "output_type": "display_data"
    }
   ],
   "source": [
    "rMat = np.resize(np.array(rList), [len(rList)//100, 100])\n",
    "rMean = np.average(rMat, 1)\n",
    "plt.plot(rMean)"
   ]
  }
 ],
 "metadata": {
  "kernelspec": {
   "display_name": "Python 3",
   "language": "python",
   "name": "python3"
  },
  "language_info": {
   "codemirror_mode": {
    "name": "ipython",
    "version": 3
   },
   "file_extension": ".py",
   "mimetype": "text/x-python",
   "name": "python",
   "nbconvert_exporter": "python",
   "pygments_lexer": "ipython3",
   "version": "3.5.4"
  }
 },
 "nbformat": 4,
 "nbformat_minor": 2
}
