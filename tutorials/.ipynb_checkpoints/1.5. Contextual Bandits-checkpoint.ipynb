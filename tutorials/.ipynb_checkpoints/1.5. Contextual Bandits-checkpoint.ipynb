{
 "cells": [
  {
   "cell_type": "code",
   "execution_count": 1,
   "metadata": {},
   "outputs": [
    {
     "name": "stderr",
     "output_type": "stream",
     "text": [
      "c:\\python35\\lib\\site-packages\\h5py\\__init__.py:36: FutureWarning: Conversion of the second argument of issubdtype from `float` to `np.floating` is deprecated. In future, it will be treated as `np.float64 == np.dtype(float).type`.\n",
      "  from ._conv import register_converters as _register_converters\n"
     ]
    }
   ],
   "source": [
    "import tensorflow as tf\n",
    "import numpy as np"
   ]
  },
  {
   "cell_type": "markdown",
   "metadata": {},
   "source": [
    "# The Contextual Bandits\n",
    "Here we define our contextual bandits. In this example, we are using three four-armed bandits. What this means is that each bandit has four arms that can be pulled. Each bandit has different success probabilities for each arm, and as such requires different actions to obtain the best result. The `pullBandit` function generates a random number from a normal distribution with a mean of 0. The lower the bandit number, the more likely a positive reward will be returned. We want our agent to learn to always choose the bandit-arm that will most often give a positive reward, depending on the bandit presented."
   ]
  },
  {
   "cell_type": "code",
   "execution_count": 2,
   "metadata": {},
   "outputs": [],
   "source": [
    "class contextual_bandit():\n",
    "    def __init__(self):\n",
    "        self.state = 0\n",
    "        # List our bandits. Currently, arms 4, 2, and 1 are\n",
    "        # the most optimal, respectively\n",
    "        self.bandits = np.array(\n",
    "            [[0.2, 0, -0.0, -5],\n",
    "             [0.1, -5, 1, 0.25],\n",
    "             [-5, 5, 5, 5]]\n",
    "        )\n",
    "        self.num_bandits = self.bandits.shape[0]\n",
    "        self.num_actions = self.bandits.shape[1]\n",
    "        \n",
    "    def getBandit(self):\n",
    "        # Returns a random state for each episode\n",
    "        self.state = np.random.randint(0, len(self.bandits))\n",
    "        return self.state\n",
    "    \n",
    "    def pullArm(self, action):\n",
    "        # Get a random number\n",
    "        bandit = self.bandits[self.state, action]\n",
    "        result = np.random.randn(1)\n",
    "        return 1 if result > bandit else -1"
   ]
  },
  {
   "cell_type": "markdown",
   "metadata": {},
   "source": [
    "### The policy-based agent\n",
    "The code below establishes our simple neural agent. It takes as input the current state and returns an action. This allows the agent to take actions which are conditioned on the state of the environment. This allows the agent to ake actions which are conditioned on the state of the environment, a critical step toward being able to solve full RL problems. The agent uses a single set of weights, within which each value is an estimate of the value of the return from choosing a particular arm given a bandit. We use a policy gradient method to update the agent by moving the value for the selected action toward the received reward."
   ]
  },
  {
   "cell_type": "code",
   "execution_count": 3,
   "metadata": {},
   "outputs": [],
   "source": [
    "class agent():\n",
    "    def __init__(self, lr, s_size, a_size):\n",
    "        # Establish the feed-forward part of the network\n",
    "        # The agent takes a state and produces an action\n",
    "        self.state_in = tf.placeholder(shape = [1], dtype = tf.int32)\n",
    "        state_in_OH = tf.one_hot(self.state_in, s_size)\n",
    "        output = tf.contrib.layers.fully_connected(\n",
    "            state_in_OH, a_size, biases_initializer = None,\n",
    "            activation_fn = tf.nn.sigmoid, weights_initializer = tf.ones_initializer()\n",
    "        )\n",
    "        self.output = tf.reshape(output, [-1])\n",
    "        self.chosen_action = tf.argmax(self.output, 0)\n",
    "        \n",
    "        # Establish the training procedure by feeding the\n",
    "        # reward and chosen action into the network to compute\n",
    "        # the loss, using it to update the network\n",
    "        self.reward_holder = tf.placeholder(shape = [1], dtype = tf.float32)\n",
    "        self.action_holder = tf.placeholder(shape = [1], dtype = tf.int32)\n",
    "        self.responsible_weight = tf.slice(self.output, self.action_holder, [1])\n",
    "        self.loss = -(tf.log(self.responsible_weight)*self.reward_holder)\n",
    "        optimizer = tf.train.GradientDescentOptimizer(learning_rate = lr)\n",
    "        self.update = optimizer.minimize(self.loss)"
   ]
  },
  {
   "cell_type": "markdown",
   "metadata": {},
   "source": [
    "### Training the agent\n",
    "We will train our agent by getting a state from the environment, take an action, and receive a reward. Using these three things, we can know how to properly update our network in order to more often choose actions given states that will yield the highest rewards over time."
   ]
  },
  {
   "cell_type": "code",
   "execution_count": 4,
   "metadata": {},
   "outputs": [
    {
     "name": "stdout",
     "output_type": "stream",
     "text": [
      "WARNING:tensorflow:From c:\\python35\\lib\\site-packages\\tensorflow\\contrib\\learn\\python\\learn\\datasets\\base.py:198: retry (from tensorflow.contrib.learn.python.learn.datasets.base) is deprecated and will be removed in a future version.\n",
      "Instructions for updating:\n",
      "Use the retry module or similar alternatives.\n",
      "Mean reward for each of the 3 bandits: [ 0.   -0.25  0.  ]\n",
      "Mean reward for each of the 3 bandits: [38.5  34.5  36.25]\n",
      "Mean reward for each of the 3 bandits: [79.25 72.75 66.75]\n",
      "Mean reward for each of the 3 bandits: [122.25 109.5   97.  ]\n",
      "Mean reward for each of the 3 bandits: [159.5  148.25 131.  ]\n",
      "Mean reward for each of the 3 bandits: [196.   187.5  169.25]\n",
      "Mean reward for each of the 3 bandits: [238.75 222.   206.5 ]\n",
      "Mean reward for each of the 3 bandits: [277.   254.   248.25]\n",
      "Mean reward for each of the 3 bandits: [311.75 294.75 285.75]\n",
      "Mean reward for each of the 3 bandits: [353.25 332.5  320.  ]\n",
      "Mean reward for each of the 3 bandits: [387.75 371.   357.5 ]\n",
      "Mean reward for each of the 3 bandits: [427.75 409.   392.5 ]\n",
      "Mean reward for each of the 3 bandits: [461.75 452.   430.  ]\n",
      "Mean reward for each of the 3 bandits: [500.5  490.25 467.5 ]\n",
      "Mean reward for each of the 3 bandits: [541.   524.75 503.  ]\n",
      "Mean reward for each of the 3 bandits: [584.   558.25 537.5 ]\n",
      "Mean reward for each of the 3 bandits: [620.5  593.75 578.5 ]\n",
      "Mean reward for each of the 3 bandits: [660.   630.5  616.25]\n",
      "Mean reward for each of the 3 bandits: [697.25 662.75 656.25]\n",
      "Mean reward for each of the 3 bandits: [739.   701.5  690.25]\n",
      "The agent thinks action 4 for bandit 1 is the most promising...\n",
      "... and it was right!\n",
      "The agent thinks action 2 for bandit 2 is the most promising...\n",
      "... and it was right!\n",
      "The agent thinks action 1 for bandit 3 is the most promising...\n",
      "... and it was right!\n"
     ]
    }
   ],
   "source": [
    "tf.reset_default_graph()\n",
    "\n",
    "cBandit = contextual_bandit()\n",
    "myAgent = agent(lr = 0.001, s_size = cBandit.num_bandits, a_size = cBandit.num_actions)\n",
    "weights = tf.trainable_variables()[0]\n",
    "\n",
    "total_episodes = 10000\n",
    "total_reward = np.zeros([cBandit.num_bandits, cBandit.num_actions])\n",
    "e = 0.1  # chance of taking a random action\n",
    "\n",
    "init = tf.global_variables_initializer()\n",
    "\n",
    "with tf.Session() as sess:\n",
    "    sess.run(init)\n",
    "    i = 0\n",
    "    while i < total_episodes:\n",
    "        s = cBandit.getBandit()  # Get a state from the environment\n",
    "        \n",
    "        # Choose either a random action or one from our network\n",
    "        if np.random.rand(1) < e:\n",
    "            action = np.random.randint(cBandit.num_actions)\n",
    "        else:\n",
    "            action = sess.run(\n",
    "                myAgent.chosen_action, feed_dict = {\n",
    "                    myAgent.state_in: [s]\n",
    "                }\n",
    "            )\n",
    "        # Get our reward for this action given this bandit\n",
    "        reward = cBandit.pullArm(action)\n",
    "        # Update our network\n",
    "        feed_dict = {\n",
    "            myAgent.reward_holder: [reward],\n",
    "            myAgent.action_holder: [action],\n",
    "            myAgent.state_in: [s],\n",
    "        }\n",
    "        _, ww = sess.run([myAgent.update, weights], feed_dict = feed_dict)\n",
    "        # Update our running tally of scores\n",
    "        total_reward[s, action] += reward\n",
    "        if i % 500 == 0:\n",
    "            print(\"Mean reward for each of the %d bandits: %s\" % (\n",
    "                cBandit.num_bandits, str(np.mean(total_reward, axis = 1))\n",
    "            ))\n",
    "        i += 1\n",
    "for a in range(cBandit.num_bandits):\n",
    "    print(\"The agent thinks action %d for bandit %d is the most promising...\" % (\n",
    "        np.argmax(ww[a])+1, a+1\n",
    "    ))\n",
    "    if np.argmax(ww[a]) == np.argmin(cBandit.bandits[a]):\n",
    "        print(\"... and it was right!\")\n",
    "    else:\n",
    "        print(\"... and it was wrong!\")"
   ]
  },
  {
   "cell_type": "code",
   "execution_count": null,
   "metadata": {},
   "outputs": [],
   "source": []
  }
 ],
 "metadata": {
  "kernelspec": {
   "display_name": "Python 3",
   "language": "python",
   "name": "python3"
  },
  "language_info": {
   "codemirror_mode": {
    "name": "ipython",
    "version": 3
   },
   "file_extension": ".py",
   "mimetype": "text/x-python",
   "name": "python",
   "nbconvert_exporter": "python",
   "pygments_lexer": "ipython3",
   "version": "3.5.4"
  }
 },
 "nbformat": 4,
 "nbformat_minor": 2
}
